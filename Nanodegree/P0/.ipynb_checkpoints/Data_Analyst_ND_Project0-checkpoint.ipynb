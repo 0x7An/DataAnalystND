{
 "cells": [
  {
   "cell_type": "markdown",
   "metadata": {},
   "source": [
    "# Pauzinhos Japoneses!\n",
    "\n",
    "Alguns pesquisadores decidiram investigar o comprimento ótimo de palitinhos para crianças e adultos. Eles inventaram uma medida de quão efetivo um par de pauzinhos é chamado \"Desempenho de Pinçar Comida\". Esta medida é determinada pelo número de amendoins pinçados e colocados dentro de um copo (PPPC).\n",
    "\n",
    "### Uma investigação para determinar o comprimento ótimo de palitinhos.\n",
    "[Link para o Resumo e o Artigo (em inglês)](http://www.ncbi.nlm.nih.gov/pubmed/15676839)  \n",
    "*o resumo abaixo foi adaptado do link*\n",
    "\n",
    "Os palitinhos são uma das ferramentas manuais mais simples e populares desenvolvidos pelo ser humano, mas que não tinham sido investigados anteriormente por [ergonomistas](https://www.google.com/search?q=ergonomists). Dois estudos em laboratório foram conduzidos nessa pesquisa, utilizando um [projeto de bloco completo randomizado](http://dawg.utk.edu/glossary/whatis_rcbd.htm) para avaliar os efeitos do comprimento dos palitinhos no desempenho de servir comida de adultos e crianças. Trinta e um calouros universitários, do sexo masculino, e 21 crianças dos primeiros anos do ensino fundamental serviram como participantes do experimento para testar o comprimento de palitinhos dos tamanhos 180, 210, 240, 270, 300 e 330 mm. O resultado mostrou que o desempenho de pinçar comida foi significativamente afetado pelo comprimento dos palitinhos, e os palitinhos de 240 e 180 mm foram ótimos para adultos e crianças, respectivamente. Baseado nesses achados, os pesquisadores sugerem que as famílias com crianças providenciassem ambos palitinhos de 240 e 180 mm. Além disso, restaurantes poderiam providenciar palitinhos de 240 e 180 mm, considerando o trade-off entre ergonomia e custo.\n",
    "\n",
    "### Para o resto deste projeto, responda todas as perguntas baseando-se somente na análise do experimento com os trinta um alunos calouros universitários.\n",
    "Faça o download do [conjunto de dados dos adultos](https://www.udacity.com/api/nodes/4576183932/supplemental_media/chopstick-effectivenesscsv/download), depois responda as seguintes questões baseadas no resumo e no conjunto de dados.\n",
    "\n",
    "**Se você der um duplo clique nesta célula**, você verá que o texto mudou e que toda a formatação foi removida. Isso permite que você edite esse bloco de texto. Esse bloco de texto foi escrito utilizando [Markdown](http://daringfireball.net/projects/markdown/syntax), que é uma maneira de formatar o texto utilizando cabeçalhos, links, itálicos e outra opções. Você aprenderá mais sobre o Markdown posteriormente no Programa Nanodegree. Para mostrar o texto formatado pressione shift + enter ou shift + return."
   ]
  },
  {
   "cell_type": "markdown",
   "metadata": {},
   "source": [
    "#### 1. Qual é a variável independente nesse experimento?\n",
    "Você pode ou clicar duas vezes nesta célula e adicionar a sua resposta, ou utilizar o sinal de mais na barra de ferramentas (Adicione uma célula abaixo) para adicionar sua resposta em uma nova célula.\n"
   ]
  },
  {
   "cell_type": "markdown",
   "metadata": {},
   "source": [
    "#### 2. Qual é a variável dependente do experimento\n",
    "\n"
   ]
  },
  {
   "cell_type": "markdown",
   "metadata": {},
   "source": [
    "#### 3. Como a variável dependente é operacionalmente definida?\n",
    "\n"
   ]
  },
  {
   "cell_type": "markdown",
   "metadata": {},
   "source": [
    "#### 4. Baseado na descrição do experimento e no conjunto de dados, cite duas variáveis que você sabe que eram controladas.\n",
    "Pense sobre os participantes da pesquisa que geraram os dados e o que eles têm em comum. Você não precisa chutar nenhuma variável ou ler o artigo inteiro para determinar essas variáveis. (Por exemplo, soa razoável que o material dos palitinhos foram mantidos contantes, mas isso não foi dito no resumo ou na descrição dos dados. Por isso, o comprimento dos palitinhos não devem ser citados com uma variável controlada.)\n"
   ]
  },
  {
   "cell_type": "markdown",
   "metadata": {},
   "source": [
    "Uma das grandes vantagens de utilizar o iPython Notebook é que você pode documentar sua análise de dados utilizando código, adicionando comentários ao código, ou até mesmo adicionando blocos de texto utilizando o Markdown. Esses Notebooks permitem que você colabore com outras pessoas e compartilhe seu trabalho. Por enquanto, vamos ver alguns códigos que geram estatísticas."
   ]
  },
  {
   "cell_type": "code",
   "execution_count": null,
   "metadata": {
    "collapsed": false
   },
   "outputs": [],
   "source": [
    "import pandas as pd\n",
    "\n",
    "# pandas é uma biblioteca para manipulação e anáise de dados\n",
    "# geralmente usamos nomes mais curtos para as bibliotecas.Pabdas é geralmente abreviada para pd\n",
    "# tecle shift + enter para rodar esta célula ou bloco de código"
   ]
  },
  {
   "cell_type": "code",
   "execution_count": null,
   "metadata": {
    "collapsed": false
   },
   "outputs": [],
   "source": [
    "path = r'~/Downloads/chopstick-effectiveness.csv'\n",
    "# Mude o caminho para o local onde o arquivo chopstick-effectiveness.csv foi baixado em seu computador\n",
    "# se você receber um erro quando estiver rodando este bloco de código, certifique-se que o arquivo chopstick-effectiveness.csv \n",
    "# está localizado no diretório acima.\n",
    "dataFrame = pd.read_csv(path)\n",
    "dataFrame"
   ]
  },
  {
   "cell_type": "markdown",
   "metadata": {},
   "source": [
    "Vamos fazer um cálculo de estatística básico com os dados utilizando código! Execute o bloco de código abaixo para calcular a média da \"Eficiência de Pinçar Comida\" para os 31 participantes e todos os comprimentos de palitinhos."
   ]
  },
  {
   "cell_type": "code",
   "execution_count": null,
   "metadata": {
    "collapsed": false
   },
   "outputs": [],
   "source": [
    "dataFrame['Food.Pinching.Efficiency'].mean()"
   ]
  },
  {
   "cell_type": "markdown",
   "metadata": {},
   "source": [
    "Esse número é útil, mas esse número não nos dá ciência de qual dos comprimentos de palitinhos tiveram o melhor desempenho para trinta calouros universitários, do sexo masculino. Vamos separar os dados pelo tamanho dos palitinhos. O próximo bloco de código vai gerar a média da \"Eficiência de Pinçar Comida\" para cada comprimento de palitinhos. Execute o bloco de código abaixo."
   ]
  },
  {
   "cell_type": "code",
   "execution_count": null,
   "metadata": {
    "collapsed": false
   },
   "outputs": [],
   "source": [
    "meansByChopstickLength = dataFrame.groupby('Chopstick.Length')['Food.Pinching.Efficiency'].mean().reset_index()\n",
    "meansByChopstickLength\n",
    "\n",
    "# reset_index() muda o Chopstick.Length de um índice para uma coluna\n",
    "# Em vez do índice ser o comprimento dos palitinhos, o índice serão os números em linha 0, 1, 2, 3, 4, 5."
   ]
  },
  {
   "cell_type": "markdown",
   "metadata": {},
   "source": [
    "#### 5. Qual comprimento dos palitinhos é o melhor para o grupo de trinta e um estudantes calouros universitários, do sexo masculino?\n",
    "\n"
   ]
  },
  {
   "cell_type": "code",
   "execution_count": null,
   "metadata": {
    "collapsed": false
   },
   "outputs": [],
   "source": [
    "# Faz gráficos aparecerem dentro do Notebook em vez de em uma nova janela\n",
    "%pylab inline\n",
    "\n",
    "import matplotlib.pyplot as plt\n",
    "\n",
    "plt.scatter(x=meansByChopstickLength['Chopstick.Length'], y=meansByChopstickLength['Food.Pinching.Efficiency'])\n",
    "            # title=\"\")\n",
    "plt.xlabel(\"Length in mm\")\n",
    "plt.ylabel(\"Efficiency in PPPC\")\n",
    "plt.title(\"Average Food Pinching Efficiency by Chopstick Length\")\n",
    "plt.show()"
   ]
  },
  {
   "cell_type": "markdown",
   "metadata": {},
   "source": [
    "#### 6. Baseado no gráfico de dispersão criado a partir do código abaixo, interprete a relação que você vê. O que você percebe?\n",
    "\n"
   ]
  },
  {
   "cell_type": "markdown",
   "metadata": {},
   "source": [
    "### No resumo, os pesquisadores estabelecem que os resultados de desempenho de pinçar comida são significativamente afetados pelo comprimento dos palitinhos, e que os palitinhos de 240 mm são ótimos para adultos.\n",
    "\n",
    "#### 7a. Baseado nos dados que você analisou, você concorda com a afirmação?\n",
    "\n",
    "#### 7b. Por quê?\n"
   ]
  }
 ],
 "metadata": {
  "kernelspec": {
   "display_name": "Python 2",
   "language": "python",
   "name": "python2"
  },
  "language_info": {
   "codemirror_mode": {
    "name": "ipython",
    "version": 2
   },
   "file_extension": ".py",
   "mimetype": "text/x-python",
   "name": "python",
   "nbconvert_exporter": "python",
   "pygments_lexer": "ipython2",
   "version": "2.7.13"
  }
 },
 "nbformat": 4,
 "nbformat_minor": 0
}
